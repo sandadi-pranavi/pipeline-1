{
  "nbformat": 4,
  "nbformat_minor": 0,
  "metadata": {
    "colab": {
      "provenance": [],
      "authorship_tag": "ABX9TyNvuevFGNY9M9J30JXheGiP",
      "include_colab_link": true
    },
    "kernelspec": {
      "name": "python3",
      "display_name": "Python 3"
    },
    "language_info": {
      "name": "python"
    }
  },
  "cells": [
    {
      "cell_type": "markdown",
      "metadata": {
        "id": "view-in-github",
        "colab_type": "text"
      },
      "source": [
        "<a href=\"https://colab.research.google.com/github/sandadi-pranavi/pipeline-1/blob/main/pipeline_1_ipynbd.ipynb\" target=\"_parent\"><img src=\"https://colab.research.google.com/assets/colab-badge.svg\" alt=\"Open In Colab\"/></a>"
      ]
    },
    {
      "cell_type": "code",
      "source": [
        "import pandas as pd\n",
        "import numpy as np\n",
        "from sklearn.preprocessing import StandardScaler, OneHotEncoder\n",
        "from sklearn.impute import SimpleImputer\n",
        "from sklearn.compose import ColumnTransformer\n",
        "from sklearn.pipeline import Pipeline\n",
        "import os\n"
      ],
      "metadata": {
        "id": "lvK4-7s2AK-A"
      },
      "execution_count": 4,
      "outputs": []
    },
    {
      "cell_type": "code",
      "source": [
        "# Replace with your actual CSV path\n",
        "data_path = \"/content/raw_data.csv\"\n",
        "df = pd.read_csv(data_path)\n",
        "\n",
        "# View first few rows\n",
        "print(df.head())\n"
      ],
      "metadata": {
        "colab": {
          "base_uri": "https://localhost:8080/"
        },
        "id": "ppp7SFwNAO7v",
        "outputId": "76093217-ce5c-4266-9910-3327da3ff88b"
      },
      "execution_count": 7,
      "outputs": [
        {
          "output_type": "stream",
          "name": "stdout",
          "text": [
            "   PassengerId  Survived  Pclass  \\\n",
            "0            1         0       3   \n",
            "1            2         1       1   \n",
            "2            3         1       3   \n",
            "3            4         1       1   \n",
            "4            5         0       3   \n",
            "\n",
            "                                                Name     Sex   Age  SibSp  \\\n",
            "0                            Braund, Mr. Owen Harris    male  22.0      1   \n",
            "1  Cumings, Mrs. John Bradley (Florence Briggs Th...  female  38.0      1   \n",
            "2                             Heikkinen, Miss. Laina  female  26.0      0   \n",
            "3       Futrelle, Mrs. Jacques Heath (Lily May Peel)  female  35.0      1   \n",
            "4                           Allen, Mr. William Henry    male  35.0      0   \n",
            "\n",
            "   Parch            Ticket     Fare Cabin Embarked  \n",
            "0      0         A/5 21171   7.2500   NaN        S  \n",
            "1      0          PC 17599  71.2833   C85        C  \n",
            "2      0  STON/O2. 3101282   7.9250   NaN        S  \n",
            "3      0            113803  53.1000  C123        S  \n",
            "4      0            373450   8.0500   NaN        S  \n"
          ]
        }
      ]
    },
    {
      "cell_type": "code",
      "source": [
        "numerical_features = df.select_dtypes(include=['int64', 'float64']).columns.tolist()\n",
        "categorical_features = df.select_dtypes(include=['object']).columns.tolist()\n",
        "print(numerical_features)\n",
        "print(categorical_features)"
      ],
      "metadata": {
        "colab": {
          "base_uri": "https://localhost:8080/"
        },
        "id": "Is2PFU4hApGs",
        "outputId": "fb3f53ff-d51f-497b-dc2c-31587cdcd2f0"
      },
      "execution_count": 11,
      "outputs": [
        {
          "output_type": "stream",
          "name": "stdout",
          "text": [
            "['PassengerId', 'Survived', 'Pclass', 'Age', 'SibSp', 'Parch', 'Fare']\n",
            "['Name', 'Sex', 'Ticket', 'Cabin', 'Embarked']\n"
          ]
        }
      ]
    },
    {
      "cell_type": "code",
      "source": [
        "numerical_pipeline = Pipeline(steps=[\n",
        "    ('imputer', SimpleImputer(strategy='mean')),        # Handle missing values\n",
        "    ('scaler', StandardScaler())                         # Normalize data\n",
        "])\n",
        "print(numerical_pipeline)"
      ],
      "metadata": {
        "colab": {
          "base_uri": "https://localhost:8080/"
        },
        "id": "PF9o2MziAtU1",
        "outputId": "f93dbd30-e2eb-4e72-cdc8-3f00a739ca77"
      },
      "execution_count": 12,
      "outputs": [
        {
          "output_type": "stream",
          "name": "stdout",
          "text": [
            "Pipeline(steps=[('imputer', SimpleImputer()), ('scaler', StandardScaler())])\n"
          ]
        }
      ]
    },
    {
      "cell_type": "code",
      "source": [
        "categorical_pipeline = Pipeline(steps=[\n",
        "    ('imputer', SimpleImputer(strategy='most_frequent')),  # Fill missing values\n",
        "    ('encoder', OneHotEncoder(handle_unknown='ignore'))    # One-hot encode categories\n",
        "])\n",
        "print(categorical_pipeline )"
      ],
      "metadata": {
        "colab": {
          "base_uri": "https://localhost:8080/"
        },
        "id": "SH_ISPhaBUR2",
        "outputId": "32470275-686a-4639-865e-2f78a24b8c9c"
      },
      "execution_count": 13,
      "outputs": [
        {
          "output_type": "stream",
          "name": "stdout",
          "text": [
            "Pipeline(steps=[('imputer', SimpleImputer(strategy='most_frequent')),\n",
            "                ('encoder', OneHotEncoder(handle_unknown='ignore'))])\n"
          ]
        }
      ]
    },
    {
      "cell_type": "code",
      "source": [
        "preprocessor = ColumnTransformer(transformers=[\n",
        "    ('num', numerical_pipeline, numerical_features),\n",
        "    ('cat', categorical_pipeline, categorical_features)\n",
        "])\n",
        "print(preprocessor)"
      ],
      "metadata": {
        "colab": {
          "base_uri": "https://localhost:8080/"
        },
        "id": "QRenmRMXCAAi",
        "outputId": "c632b508-7858-46d0-c5c1-fc1f252d24f3"
      },
      "execution_count": 14,
      "outputs": [
        {
          "output_type": "stream",
          "name": "stdout",
          "text": [
            "ColumnTransformer(transformers=[('num',\n",
            "                                 Pipeline(steps=[('imputer', SimpleImputer()),\n",
            "                                                 ('scaler', StandardScaler())]),\n",
            "                                 ['PassengerId', 'Survived', 'Pclass', 'Age',\n",
            "                                  'SibSp', 'Parch', 'Fare']),\n",
            "                                ('cat',\n",
            "                                 Pipeline(steps=[('imputer',\n",
            "                                                  SimpleImputer(strategy='most_frequent')),\n",
            "                                                 ('encoder',\n",
            "                                                  OneHotEncoder(handle_unknown='ignore'))]),\n",
            "                                 ['Name', 'Sex', 'Ticket', 'Cabin',\n",
            "                                  'Embarked'])])\n"
          ]
        }
      ]
    },
    {
      "cell_type": "code",
      "source": [
        "# Apply transformations and get preprocessed data\n",
        "processed_data = preprocessor.fit_transform(df)\n",
        "print(processed_data)\n",
        "# If you want to convert back to DataFrame:\n",
        "processed_df = pd.DataFrame(processed_data.toarray() if hasattr(processed_data, \"toarray\") else processed_data)\n",
        "print(processed_df)\n"
      ],
      "metadata": {
        "colab": {
          "base_uri": "https://localhost:8080/"
        },
        "id": "yyKxeShwC6wP",
        "outputId": "87a02bbf-d845-4a6d-d8e4-f258245c871c"
      },
      "execution_count": 22,
      "outputs": [
        {
          "output_type": "stream",
          "name": "stdout",
          "text": [
            "<Compressed Sparse Row sparse matrix of dtype 'float64'\n",
            "\twith 10514 stored elements and shape (891, 1731)>\n",
            "  Coords\tValues\n",
            "  (0, 0)\t-1.730107956920867\n",
            "  (0, 1)\t-0.7892723355548015\n",
            "  (0, 2)\t0.8273772438659699\n",
            "  (0, 3)\t-0.5924805998028931\n",
            "  (0, 4)\t0.4327933656785018\n",
            "  (0, 5)\t-0.4736736092984604\n",
            "  (0, 6)\t-0.5024451714361923\n",
            "  (0, 115)\t1.0\n",
            "  (0, 899)\t1.0\n",
            "  (0, 1423)\t1.0\n",
            "  (0, 1628)\t1.0\n",
            "  (0, 1730)\t1.0\n",
            "  (1, 0)\t-1.7262200738716067\n",
            "  (1, 1)\t1.266989801811655\n",
            "  (1, 2)\t-1.5661069258891576\n",
            "  (1, 3)\t0.6387890120425208\n",
            "  (1, 4)\t0.4327933656785018\n",
            "  (1, 5)\t-0.4736736092984604\n",
            "  (1, 6)\t0.7868452935884461\n",
            "  (1, 197)\t1.0\n",
            "  (1, 898)\t1.0\n",
            "  (1, 1496)\t1.0\n",
            "  (1, 1662)\t1.0\n",
            "  (1, 1728)\t1.0\n",
            "  (2, 0)\t-1.7223321908223463\n",
            "  :\t:\n",
            "  (888, 1730)\t1.0\n",
            "  (889, 0)\t1.7262200738716067\n",
            "  (889, 1)\t1.266989801811655\n",
            "  (889, 2)\t-1.5661069258891576\n",
            "  (889, 3)\t-0.2846631968415396\n",
            "  (889, 4)\t-0.47454519624983954\n",
            "  (889, 5)\t-0.4736736092984604\n",
            "  (889, 6)\t-0.04438103794142432\n",
            "  (889, 88)\t1.0\n",
            "  (889, 899)\t1.0\n",
            "  (889, 908)\t1.0\n",
            "  (889, 1641)\t1.0\n",
            "  (889, 1728)\t1.0\n",
            "  (890, 0)\t1.730107956920867\n",
            "  (890, 1)\t-0.7892723355548015\n",
            "  (890, 2)\t0.8273772438659699\n",
            "  (890, 3)\t0.17706290760049057\n",
            "  (890, 4)\t-0.47454519624983954\n",
            "  (890, 5)\t-0.4736736092984604\n",
            "  (890, 6)\t-0.49237782784290063\n",
            "  (890, 227)\t1.0\n",
            "  (890, 899)\t1.0\n",
            "  (890, 1366)\t1.0\n",
            "  (890, 1628)\t1.0\n",
            "  (890, 1729)\t1.0\n",
            "         0         1         2         3         4         5         6     \\\n",
            "0   -1.730108 -0.789272  0.827377 -0.592481  0.432793 -0.473674 -0.502445   \n",
            "1   -1.726220  1.266990 -1.566107  0.638789  0.432793 -0.473674  0.786845   \n",
            "2   -1.722332  1.266990  0.827377 -0.284663 -0.474545 -0.473674 -0.488854   \n",
            "3   -1.718444  1.266990 -1.566107  0.407926  0.432793 -0.473674  0.420730   \n",
            "4   -1.714556 -0.789272  0.827377  0.407926 -0.474545 -0.473674 -0.486337   \n",
            "..        ...       ...       ...       ...       ...       ...       ...   \n",
            "886  1.714556 -0.789272 -0.369365 -0.207709 -0.474545 -0.473674 -0.386671   \n",
            "887  1.718444  1.266990 -1.566107 -0.823344 -0.474545 -0.473674 -0.044381   \n",
            "888  1.722332 -0.789272  0.827377  0.000000  0.432793  2.008933 -0.176263   \n",
            "889  1.726220  1.266990 -1.566107 -0.284663 -0.474545 -0.473674 -0.044381   \n",
            "890  1.730108 -0.789272  0.827377  0.177063 -0.474545 -0.473674 -0.492378   \n",
            "\n",
            "     7     8     9     ...  1721  1722  1723  1724  1725  1726  1727  1728  \\\n",
            "0     0.0   0.0   0.0  ...   0.0   0.0   0.0   0.0   0.0   0.0   0.0   0.0   \n",
            "1     0.0   0.0   0.0  ...   0.0   0.0   0.0   0.0   0.0   0.0   0.0   1.0   \n",
            "2     0.0   0.0   0.0  ...   0.0   0.0   0.0   0.0   0.0   0.0   0.0   0.0   \n",
            "3     0.0   0.0   0.0  ...   0.0   0.0   0.0   0.0   0.0   0.0   0.0   0.0   \n",
            "4     0.0   0.0   0.0  ...   0.0   0.0   0.0   0.0   0.0   0.0   0.0   0.0   \n",
            "..    ...   ...   ...  ...   ...   ...   ...   ...   ...   ...   ...   ...   \n",
            "886   0.0   0.0   0.0  ...   0.0   0.0   0.0   0.0   0.0   0.0   0.0   0.0   \n",
            "887   0.0   0.0   0.0  ...   0.0   0.0   0.0   0.0   0.0   0.0   0.0   0.0   \n",
            "888   0.0   0.0   0.0  ...   0.0   0.0   0.0   0.0   0.0   0.0   0.0   0.0   \n",
            "889   0.0   0.0   0.0  ...   0.0   0.0   0.0   0.0   0.0   0.0   0.0   1.0   \n",
            "890   0.0   0.0   0.0  ...   0.0   0.0   0.0   0.0   0.0   0.0   0.0   0.0   \n",
            "\n",
            "     1729  1730  \n",
            "0     0.0   1.0  \n",
            "1     0.0   0.0  \n",
            "2     0.0   1.0  \n",
            "3     0.0   1.0  \n",
            "4     0.0   1.0  \n",
            "..    ...   ...  \n",
            "886   0.0   1.0  \n",
            "887   0.0   1.0  \n",
            "888   0.0   1.0  \n",
            "889   0.0   0.0  \n",
            "890   1.0   0.0  \n",
            "\n",
            "[891 rows x 1731 columns]\n"
          ]
        }
      ]
    },
    {
      "cell_type": "code",
      "source": [
        "# Create output folder if not exists\n",
        "os.makedirs(\"output\", exist_ok=True)\n",
        "\n",
        "# Save processed data to CSV\n",
        "processed_df.to_csv(\"output/processed_data.csv\", index=False)\n",
        "print(\"ETL pipeline completed and data saved!\")\n"
      ],
      "metadata": {
        "colab": {
          "base_uri": "https://localhost:8080/"
        },
        "id": "bgutlrhiDJcm",
        "outputId": "21706972-c212-4498-ca36-aa775fc638e9"
      },
      "execution_count": 23,
      "outputs": [
        {
          "output_type": "stream",
          "name": "stdout",
          "text": [
            "ETL pipeline completed and data saved!\n"
          ]
        }
      ]
    }
  ]
}